{
 "cells": [
  {
   "cell_type": "markdown",
   "metadata": {
    "hideCode": false,
    "hidePrompt": false,
    "slideshow": {
     "slide_type": "notes"
    }
   },
   "source": [
    "# Education in Brazil: an overview of PISA performance"
   ]
  },
  {
   "cell_type": "markdown",
   "metadata": {
    "hideCode": false,
    "hidePrompt": false
   },
   "source": [
    "Author: Marcel Cortapasso"
   ]
  },
  {
   "cell_type": "markdown",
   "metadata": {},
   "source": [
    "## 1. Introduction"
   ]
  },
  {
   "cell_type": "markdown",
   "metadata": {
    "hideCode": false,
    "hidePrompt": false
   },
   "source": [
    "The education system in Brazil has been a constant topic of discussion in the last two decades. It is a consensus among the Brazilians that the primary and secondary education does not reach the minimum standard to develop youngsters the ability to read critically as well as to solve trivial problems in math and science. As a consequence, many issues have been aggravating such as the lacking of qualified labor, the weak technology development, and the low economic mobility. \n",
    "<br>\n",
    "<br>\n",
    "The following study explores indicators of education collected around the world and highlight the Brazil position regarding performance on an international standardized test, the PISA. The aim is to demonstrate how severe is the situation using the comparison with other regions and countries group income. By the ending, it infers the indicators of education that have a significant correlation to PISA performance; therefore it could be used to guide the government to allocate wisely the resources in education."
   ]
  },
  {
   "cell_type": "markdown",
   "metadata": {
    "hideCode": false,
    "hidePrompt": false
   },
   "source": [
    "## 2. Data Preparation"
   ]
  },
  {
   "cell_type": "markdown",
   "metadata": {},
   "source": [
    "### 2.1 Importing Python libraries"
   ]
  },
  {
   "cell_type": "code",
   "execution_count": 58,
   "metadata": {
    "collapsed": true,
    "hideCode": false,
    "hideOutput": false,
    "hidePrompt": false,
    "jupyter": {
     "outputs_hidden": true
    }
   },
   "outputs": [
    {
     "data": {
      "text/html": [
       "<script>jQuery(function() {if (jQuery(\"body.notebook_app\").length == 0) { jQuery(\".input_area\").toggle(); jQuery(\".prompt\").toggle();}});</script>"
      ]
     },
     "metadata": {},
     "output_type": "display_data"
    },
    {
     "data": {
      "text/html": [
       "<button onclick=\"jQuery('.input_area').toggle(); jQuery('.prompt').toggle();\">Toggle code</button>"
      ]
     },
     "metadata": {},
     "output_type": "display_data"
    }
   ],
   "source": [
    "import numpy as np\n",
    "import pandas as pd\n",
    "from scipy import stats\n",
    "import matplotlib.pyplot as plt \n",
    "import plotly.plotly as py # To use the plotly API it is required to sign up. \n",
    "import plotly.graph_objs as go\n",
    "from sklearn import datasets, linear_model # To calculate the regressions\n",
    "import plotly\n",
    "from plotly import tools\n",
    "\n",
    "import IPython.core.display as di\n",
    "\n",
    "# This line will hide code by default when the notebook is exported as HTML\n",
    "di.display_html('<script>jQuery(function() {if (jQuery(\"body.notebook_app\").length == 0) { jQuery(\".input_area\").toggle(); jQuery(\".prompt\").toggle();}});</script>', raw=True)\n",
    "\n",
    "# This line will add a button to toggle visibility of code blocks, for use with the HTML export version\n",
    "di.display_html('''<button onclick=\"jQuery('.input_area').toggle(); jQuery('.prompt').toggle();\">Toggle code</button>''', raw=True)"
   ]
  },
  {
   "cell_type": "markdown",
   "metadata": {
    "hideCode": true,
    "hideOutput": true,
    "hidePrompt": true
   },
   "source": [
    "Import all Python libraries required to make the data visualization and the statistics."
   ]
  },
  {
   "cell_type": "code",
   "execution_count": 57,
   "metadata": {
    "collapsed": true,
    "hideCode": false,
    "jupyter": {
     "outputs_hidden": true,
     "source_hidden": true
    }
   },
   "outputs": [],
   "source": [
    "# Personal credentials\n",
    "with open (\"../pyplot_credentials.txt\") as cred:\n",
    "    for row in cred:\n",
    "        if row.split(\"=\")[0] == \"username\":\n",
    "            username = row.split(\"=\")[1][:-1]\n",
    "        else:\n",
    "            api_key = row.split(\"=\")[1] [:-1]\n",
    "\n",
    "# To use the plotly API is required to sign up and get an username and api_key.\n",
    "plotly.tools.set_credentials_file(username = username, api_key = api_key)\n",
    "botton"
   ]
  },
  {
   "cell_type": "markdown",
   "metadata": {
    "hideCode": false,
    "hideOutput": false,
    "hidePrompt": false
   },
   "source": [
    "### 2.2 The data\n",
    "The data was collect from the World Bank Open Data and it is named [\"Education Statistics\"](http://datatopics.worldbank.org/education/).\n",
    "<br>"
   ]
  },
  {
   "cell_type": "markdown",
   "metadata": {
    "hideCode": false,
    "hidePrompt": false
   },
   "source": [
    "### 2.3 Reading in the data \n",
    "The data was collected in .csv format and transformed into Pandas Data Frame."
   ]
  },
  {
   "cell_type": "code",
   "execution_count": 56,
   "metadata": {
    "hideCode": false,
    "hidePrompt": false,
    "jupyter": {
     "source_hidden": true
    }
   },
   "outputs": [],
   "source": [
    "# World Bank Data Base to get stats per year\n",
    "data = pd.read_csv('../EdStatsData.csv')\n",
    "\n",
    "# Data base to obtain extra details from the countries (region and income group)\n",
    "countries = pd.read_csv('EdStatsCountry.csv')\n",
    "data.head(3)\n",
    "botton"
   ]
  },
  {
   "cell_type": "markdown",
   "metadata": {
    "hideCode": false,
    "hidePrompt": false
   },
   "source": [
    "Following are the target indicators to be analyzed in this study:\n",
    "<br>\n",
    "<br>\n",
    "__PISA: Mean performance on the mathematics scale__: Average score of 15-year-old students on the PISA mathematics scale. The metric for the overall mathematics scale is based on a mean for OECD countries of 500 points and a standard deviation of 100 points. Data reflects country performance in the stated year according to PISA reports\n",
    "<br>\n",
    "<br>\n",
    "__PISA: Mean performance on the reading scale__: Average score of 15-year-old students on the PISA reading scale. The metric for the overall mathematics scale is based on a mean for OECD countries of 500 points and a standard deviation of 100 points. Data reflects country performance in the stated year according to PISA reports\n",
    "<br>\n",
    "<br>\n",
    "__PISA: Mean performance on the science scale__: Average score of 15-year-old students on the PISA science scale. The metric for the overall mathematics scale is based on a mean for OECD countries of 500 points and a standard deviation of 100 points. Data reflects country performance in the stated year according to PISA reports\n",
    "<br>\n",
    "<br>\n",
    "__Government expenditure on education as % of GDP (%)__: Total general (local, regional and central) government expenditure on education (current, capital, and transfers), expressed as a percentage of GDP.\n",
    "Government expenditure in primary institutions as % of GDP (%): Total general (local, regional and central) government expenditure in primary educational institutions (current and capital) at a given level of education, expressed as a percentage of GDP. \n",
    "<br>\n",
    "<br>\n",
    "__Government expenditure in secondary institutions education as % of GDP (%)__: Total general (local, regional and central) government expenditure in secondary educational institutions (current and capital) at a given level of education, expressed as a percentage of GDP. \n",
    "<br>\n",
    "<br>\n",
    "__Pupil-teacher ratio in primary education (headcount basis)__: Average number of pupils per teacher at a given level of education, based on headcounts of both pupils and teachers. Divide the total number of pupils enrolled at the specified level of education by the number of teachers at the same level. In computing and interpreting this indicator, one should take into account the existence of part-time teaching, school-shifts, multi-grade classes and other practices that may affect the precision and meaningfulness of pupil-teacher ratios.\n",
    "<br>\n",
    "<br>\n",
    "__Pupil-teacher ratio in secondary education (headcount basis)__: Average number of pupils per teacher at a given level of education, based on headcounts of both pupils and teachers. Divide the total number of pupils enrolled at the specified level of education by the number of teachers at the same level. In computing and interpreting this indicator, one should take into account the existence of part-time teaching, school-shifts, multi-grade classes and other practices that may affect the precision and meaningfulness of pupil-teacher ratios."
   ]
  },
  {
   "cell_type": "markdown",
   "metadata": {
    "hideCode": false,
    "hidePrompt": true
   },
   "source": [
    "### 2.4 Reshaping the data\n",
    "It is required to reshape the data and place the variables - indicators mentioned above - in columns and extract just the target years."
   ]
  },
  {
   "cell_type": "code",
   "execution_count": 33,
   "metadata": {
    "jupyter": {
     "source_hidden": true
    }
   },
   "outputs": [
    {
     "data": {
      "text/html": [
       "<div>\n",
       "<style scoped>\n",
       "    .dataframe tbody tr th:only-of-type {\n",
       "        vertical-align: middle;\n",
       "    }\n",
       "\n",
       "    .dataframe tbody tr th {\n",
       "        vertical-align: top;\n",
       "    }\n",
       "\n",
       "    .dataframe thead th {\n",
       "        text-align: right;\n",
       "    }\n",
       "</style>\n",
       "<table border=\"1\" class=\"dataframe\">\n",
       "  <thead>\n",
       "    <tr style=\"text-align: right;\">\n",
       "      <th>Indicator Name</th>\n",
       "      <th>Region</th>\n",
       "      <th>Income Group</th>\n",
       "      <th>Country Name</th>\n",
       "      <th>Country Code</th>\n",
       "      <th>Performance on the Mathematics</th>\n",
       "      <th>Performance on the Reading</th>\n",
       "      <th>Performance on the Science</th>\n",
       "      <th>PISA Performance</th>\n",
       "    </tr>\n",
       "  </thead>\n",
       "  <tbody>\n",
       "    <tr>\n",
       "      <th>0</th>\n",
       "      <td>East Asia &amp; Pacific</td>\n",
       "      <td>High income: OECD</td>\n",
       "      <td>Australia</td>\n",
       "      <td>AUS</td>\n",
       "      <td>493.8962</td>\n",
       "      <td>502.9006</td>\n",
       "      <td>509.9939</td>\n",
       "      <td>502.263567</td>\n",
       "    </tr>\n",
       "    <tr>\n",
       "      <th>1</th>\n",
       "      <td>East Asia &amp; Pacific</td>\n",
       "      <td>High income: OECD</td>\n",
       "      <td>Japan</td>\n",
       "      <td>JPN</td>\n",
       "      <td>532.4399</td>\n",
       "      <td>515.9585</td>\n",
       "      <td>538.3948</td>\n",
       "      <td>528.931067</td>\n",
       "    </tr>\n",
       "    <tr>\n",
       "      <th>2</th>\n",
       "      <td>East Asia &amp; Pacific</td>\n",
       "      <td>High income: OECD</td>\n",
       "      <td>Korea, Rep.</td>\n",
       "      <td>KOR</td>\n",
       "      <td>524.1062</td>\n",
       "      <td>517.4367</td>\n",
       "      <td>515.8099</td>\n",
       "      <td>519.117600</td>\n",
       "    </tr>\n",
       "    <tr>\n",
       "      <th>3</th>\n",
       "      <td>East Asia &amp; Pacific</td>\n",
       "      <td>High income: OECD</td>\n",
       "      <td>New Zealand</td>\n",
       "      <td>NZL</td>\n",
       "      <td>495.2233</td>\n",
       "      <td>509.2707</td>\n",
       "      <td>513.3035</td>\n",
       "      <td>505.932500</td>\n",
       "    </tr>\n",
       "    <tr>\n",
       "      <th>4</th>\n",
       "      <td>East Asia &amp; Pacific</td>\n",
       "      <td>High income: nonOECD</td>\n",
       "      <td>Brunei Darussalam</td>\n",
       "      <td>BRN</td>\n",
       "      <td>NaN</td>\n",
       "      <td>NaN</td>\n",
       "      <td>NaN</td>\n",
       "      <td>NaN</td>\n",
       "    </tr>\n",
       "  </tbody>\n",
       "</table>\n",
       "</div>"
      ],
      "text/plain": [
       "Indicator Name               Region          Income Group       Country Name  \\\n",
       "0               East Asia & Pacific     High income: OECD          Australia   \n",
       "1               East Asia & Pacific     High income: OECD              Japan   \n",
       "2               East Asia & Pacific     High income: OECD        Korea, Rep.   \n",
       "3               East Asia & Pacific     High income: OECD        New Zealand   \n",
       "4               East Asia & Pacific  High income: nonOECD  Brunei Darussalam   \n",
       "\n",
       "Indicator Name Country Code  Performance on the Mathematics  \\\n",
       "0                       AUS                        493.8962   \n",
       "1                       JPN                        532.4399   \n",
       "2                       KOR                        524.1062   \n",
       "3                       NZL                        495.2233   \n",
       "4                       BRN                             NaN   \n",
       "\n",
       "Indicator Name  Performance on the Reading  Performance on the Science  \\\n",
       "0                                 502.9006                    509.9939   \n",
       "1                                 515.9585                    538.3948   \n",
       "2                                 517.4367                    515.8099   \n",
       "3                                 509.2707                    513.3035   \n",
       "4                                      NaN                         NaN   \n",
       "\n",
       "Indicator Name  PISA Performance  \n",
       "0                     502.263567  \n",
       "1                     528.931067  \n",
       "2                     519.117600  \n",
       "3                     505.932500  \n",
       "4                            NaN  "
      ]
     },
     "execution_count": 33,
     "metadata": {},
     "output_type": "execute_result"
    }
   ],
   "source": [
    "# List to select the columns to be used\n",
    "columns = [\"Country Name\", \n",
    "           \"Country Code\", \n",
    "           \"Indicator Name\", \n",
    "           \"Indicator Code\",\n",
    "           \"2008\",\n",
    "           \"2009\",\n",
    "           \"2010\",\n",
    "           \"2011\", \n",
    "           \"2012\", \n",
    "           \"2013\", \n",
    "           \"2014\", \n",
    "           \"2015\", \n",
    "           \"2016\", \n",
    "           \"2017\"]\n",
    "\n",
    "# Indicators \n",
    "indicators = {\n",
    "            \"Government expenditure in primary institutions as % of GDP (%)\":\"Expenditure in primary institutions\",\n",
    "            \"Government expenditure in secondary institutions education as % of GDP (%)\": \"Expenditure in secondary institutions\",\n",
    "            \"Government expenditure on education as % of GDP (%)\":\"Expenditure on education\",\n",
    "            \"PISA: Mean performance on the mathematics scale\": \"Performance on the Mathematics\",\n",
    "            \"PISA: Mean performance on the reading scale\": \"Performance on the Reading\",\n",
    "            \"PISA: Mean performance on the science scale\": \"Performance on the Science\",\n",
    "            \"Pupil-teacher ratio in primary education (headcount basis)\" : \"Pupil-teacher ratio in primary education\",\n",
    "            \"Pupil-teacher ratio in secondary education (headcount basis)\": \"Pupil-teacher ratio in secondary education\",\n",
    "             }\n",
    "\n",
    "data.reset_index(drop = True, inplace = True)\n",
    "\n",
    "# Selecting the columns and rows according to the list and dict above.\n",
    "data = data.loc[data[\"Indicator Name\"].isin(list(indicators.keys())),columns]\n",
    "\n",
    "# Merging the 2 data base to get region and income group of each country\n",
    "data = pd.merge(data, countries.loc[:,[\"Country Code\",\"Region\",\"Income Group\" ]], how = \"left\", on = \"Country Code\")\n",
    "data = data[data[\"Income Group\"].notnull()]\n",
    "\n",
    "# Replace the names to be concise\n",
    "data[\"Indicator Name\"] = data[\"Indicator Name\"].map(indicators)\n",
    "\n",
    "# List to produce the pivot table easily.\n",
    "columnsPISA = [\"Region\",\n",
    "               \"Income Group\",\n",
    "               \"Country Code\",\n",
    "               \"Country Name\",\n",
    "               \"Performance on the Mathematics\",\n",
    "               \"Performance on the Reading\", \n",
    "               \"Performance on the Science\"]\n",
    "\n",
    "# List to produce the pivot table easily.\n",
    "columns_set = [\"Region\",\n",
    "              \"Income Group\",\n",
    "              \"Country Name\", \n",
    "              \"Country Code\"]\n",
    "\n",
    "# The pivot table with PISA results. The year 2015 was selected because it was the last exam.\n",
    "mapPISA = pd.pivot_table(data, values = \"2015\",  \n",
    "                         columns = [\"Indicator Name\"],\n",
    "                         index = columns_set).reset_index(level = columns_set)\n",
    "\n",
    "# It was used as PISA performance the average of the 3 results: Math, Science and Reading.\n",
    "mapPISA[\"PISA Performance\"] = (mapPISA[\"Performance on the Mathematics\"] \n",
    "                               + mapPISA[\"Performance on the Science\"] \n",
    "                               + mapPISA[\"Performance on the Reading\"])/3\n",
    "\n",
    "columns_drop = [\"Expenditure in secondary institutions\",\n",
    "                \"Pupil-teacher ratio in primary education\",\n",
    "                \"Expenditure on education\",\n",
    "                \"Pupil-teacher ratio in primary education\",\n",
    "                \"Pupil-teacher ratio in secondary education\",\n",
    "               ]\n",
    "\n",
    "mapPISA.drop(columns_drop, axis = 1, inplace = True)\n",
    "mapPISA.head()"
   ]
  },
  {
   "cell_type": "markdown",
   "metadata": {},
   "source": [
    "Table with all PISA scores plus the average performance in 2015."
   ]
  },
  {
   "cell_type": "code",
   "execution_count": 34,
   "metadata": {
    "hideCode": false,
    "hidePrompt": false,
    "jupyter": {
     "source_hidden": true
    }
   },
   "outputs": [
    {
     "data": {
      "text/html": [
       "<div>\n",
       "<style scoped>\n",
       "    .dataframe tbody tr th:only-of-type {\n",
       "        vertical-align: middle;\n",
       "    }\n",
       "\n",
       "    .dataframe tbody tr th {\n",
       "        vertical-align: top;\n",
       "    }\n",
       "\n",
       "    .dataframe thead th {\n",
       "        text-align: right;\n",
       "    }\n",
       "</style>\n",
       "<table border=\"1\" class=\"dataframe\">\n",
       "  <thead>\n",
       "    <tr style=\"text-align: right;\">\n",
       "      <th>Indicator Name</th>\n",
       "      <th>Country</th>\n",
       "      <th>Pupil-teacher ratio in primary education</th>\n",
       "      <th>Pupil-teacher ratio in secondary education</th>\n",
       "      <th>Region</th>\n",
       "      <th>Income Group</th>\n",
       "      <th>Country Code</th>\n",
       "      <th>Performance on the Mathematics</th>\n",
       "      <th>Performance on the Reading</th>\n",
       "      <th>Performance on the Science</th>\n",
       "      <th>PISA Performance</th>\n",
       "      <th>Expenditure in primary institutions</th>\n",
       "      <th>Expenditure in secondary institutions</th>\n",
       "      <th>Expenditure on education</th>\n",
       "    </tr>\n",
       "  </thead>\n",
       "  <tbody>\n",
       "    <tr>\n",
       "      <th>0</th>\n",
       "      <td>Afghanistan</td>\n",
       "      <td>44.677429</td>\n",
       "      <td>NaN</td>\n",
       "      <td>South Asia</td>\n",
       "      <td>Low income</td>\n",
       "      <td>AFG</td>\n",
       "      <td>NaN</td>\n",
       "      <td>NaN</td>\n",
       "      <td>NaN</td>\n",
       "      <td>NaN</td>\n",
       "      <td>NaN</td>\n",
       "      <td>NaN</td>\n",
       "      <td>NaN</td>\n",
       "    </tr>\n",
       "    <tr>\n",
       "      <th>1</th>\n",
       "      <td>Albania</td>\n",
       "      <td>19.482981</td>\n",
       "      <td>14.89293</td>\n",
       "      <td>Europe &amp; Central Asia</td>\n",
       "      <td>Upper middle income</td>\n",
       "      <td>ALB</td>\n",
       "      <td>413.1570</td>\n",
       "      <td>405.2588</td>\n",
       "      <td>427.2250</td>\n",
       "      <td>415.213600</td>\n",
       "      <td>NaN</td>\n",
       "      <td>NaN</td>\n",
       "      <td>NaN</td>\n",
       "    </tr>\n",
       "    <tr>\n",
       "      <th>2</th>\n",
       "      <td>Algeria</td>\n",
       "      <td>23.159420</td>\n",
       "      <td>NaN</td>\n",
       "      <td>Middle East &amp; North Africa</td>\n",
       "      <td>Upper middle income</td>\n",
       "      <td>DZA</td>\n",
       "      <td>359.6062</td>\n",
       "      <td>349.8593</td>\n",
       "      <td>375.7451</td>\n",
       "      <td>361.736867</td>\n",
       "      <td>NaN</td>\n",
       "      <td>NaN</td>\n",
       "      <td>NaN</td>\n",
       "    </tr>\n",
       "    <tr>\n",
       "      <th>3</th>\n",
       "      <td>Andorra</td>\n",
       "      <td>9.582370</td>\n",
       "      <td>NaN</td>\n",
       "      <td>Europe &amp; Central Asia</td>\n",
       "      <td>High income: nonOECD</td>\n",
       "      <td>AND</td>\n",
       "      <td>NaN</td>\n",
       "      <td>NaN</td>\n",
       "      <td>NaN</td>\n",
       "      <td>NaN</td>\n",
       "      <td>NaN</td>\n",
       "      <td>NaN</td>\n",
       "      <td>NaN</td>\n",
       "    </tr>\n",
       "    <tr>\n",
       "      <th>4</th>\n",
       "      <td>Antigua and Barbuda</td>\n",
       "      <td>13.845030</td>\n",
       "      <td>11.59474</td>\n",
       "      <td>Latin America &amp; Caribbean</td>\n",
       "      <td>High income: nonOECD</td>\n",
       "      <td>ATG</td>\n",
       "      <td>NaN</td>\n",
       "      <td>NaN</td>\n",
       "      <td>NaN</td>\n",
       "      <td>NaN</td>\n",
       "      <td>NaN</td>\n",
       "      <td>NaN</td>\n",
       "      <td>NaN</td>\n",
       "    </tr>\n",
       "  </tbody>\n",
       "</table>\n",
       "</div>"
      ],
      "text/plain": [
       "Indicator Name              Country  Pupil-teacher ratio in primary education  \\\n",
       "0                       Afghanistan                                 44.677429   \n",
       "1                           Albania                                 19.482981   \n",
       "2                           Algeria                                 23.159420   \n",
       "3                           Andorra                                  9.582370   \n",
       "4               Antigua and Barbuda                                 13.845030   \n",
       "\n",
       "Indicator Name  Pupil-teacher ratio in secondary education  \\\n",
       "0                                                      NaN   \n",
       "1                                                 14.89293   \n",
       "2                                                      NaN   \n",
       "3                                                      NaN   \n",
       "4                                                 11.59474   \n",
       "\n",
       "Indicator Name                      Region          Income Group Country Code  \\\n",
       "0                               South Asia            Low income          AFG   \n",
       "1                    Europe & Central Asia   Upper middle income          ALB   \n",
       "2               Middle East & North Africa   Upper middle income          DZA   \n",
       "3                    Europe & Central Asia  High income: nonOECD          AND   \n",
       "4                Latin America & Caribbean  High income: nonOECD          ATG   \n",
       "\n",
       "Indicator Name  Performance on the Mathematics  Performance on the Reading  \\\n",
       "0                                          NaN                         NaN   \n",
       "1                                     413.1570                    405.2588   \n",
       "2                                     359.6062                    349.8593   \n",
       "3                                          NaN                         NaN   \n",
       "4                                          NaN                         NaN   \n",
       "\n",
       "Indicator Name  Performance on the Science  PISA Performance  \\\n",
       "0                                      NaN               NaN   \n",
       "1                                 427.2250        415.213600   \n",
       "2                                 375.7451        361.736867   \n",
       "3                                      NaN               NaN   \n",
       "4                                      NaN               NaN   \n",
       "\n",
       "Indicator Name  Expenditure in primary institutions  \\\n",
       "0                                               NaN   \n",
       "1                                               NaN   \n",
       "2                                               NaN   \n",
       "3                                               NaN   \n",
       "4                                               NaN   \n",
       "\n",
       "Indicator Name  Expenditure in secondary institutions  \\\n",
       "0                                                 NaN   \n",
       "1                                                 NaN   \n",
       "2                                                 NaN   \n",
       "3                                                 NaN   \n",
       "4                                                 NaN   \n",
       "\n",
       "Indicator Name  Expenditure on education  \n",
       "0                                    NaN  \n",
       "1                                    NaN  \n",
       "2                                    NaN  \n",
       "3                                    NaN  \n",
       "4                                    NaN  "
      ]
     },
     "execution_count": 34,
     "metadata": {},
     "output_type": "execute_result"
    }
   ],
   "source": [
    "# Dimensions to produce the radar chart\n",
    "theta = [\"Performance on the Mathematics\",\n",
    "        \"Performance on the Reading\", \n",
    "        \"Performance on the Science\"]\n",
    "\n",
    "column_countries = data[\"Country Name\"]\n",
    "\n",
    "# Data from the last records of teacher-pupil ratio 2012\n",
    "pivot_2012 = pd.pivot_table(data, \n",
    "                            values = [\"2012\"],  \n",
    "                            columns = data[\"Indicator Name\"],\n",
    "                            index = column_countries)\n",
    "pivot_2012 = pd.DataFrame(pivot_2012)\n",
    "\n",
    "pivot_2012.columns = pivot_2012.columns.droplevel()\n",
    "pivot_2012.drop(columns = theta, inplace = True)\n",
    "\n",
    "# Merging to PISA results table\n",
    "pivot_2012_and_PISA2015 = pd.merge(pivot_2012, mapPISA, how = \"right\", on = \"Country Name\")\n",
    "\n",
    "\n",
    "# Average expenditure from 2008 to 2012\n",
    "\n",
    "data[\"2008-2012\"] = (data[\"2008\"] + data[\"2009\"] + data[\"2010\"] + data[\"2011\"] + data[\"2012\"]) / 5\n",
    "mean_var = [\"Expenditure on education\",\n",
    "            \"Expenditure in primary institutions\",\n",
    "            \"Expenditure in secondary institutions\",\n",
    "            ]\n",
    "\n",
    "pivot_2008_2012 = pd.pivot_table(data, \n",
    "                                 values = [\"2008-2012\"],\n",
    "                                 columns = data.loc[data[\"Indicator Name\"].isin(mean_var),\n",
    "                                                   \"Indicator Name\"],\n",
    "                                 index = column_countries)\n",
    "\n",
    "pivot_2008_2012 = pd.DataFrame(pivot_2008_2012)\n",
    "pivot_2008_2012.columns = pivot_2008_2012.columns.droplevel()\n",
    "pivot_2008_2012.reset_index(inplace = True)\n",
    "\n",
    "pivot_2012_and_PISA2015.drop(mean_var, axis = 1, inplace = True) # removing expenditure columns\n",
    "\n",
    "\n",
    "# Consolidate the 2 data base. \n",
    "data_edu = pd.merge(pivot_2012_and_PISA2015, pivot_2008_2012, how = \"left\", on = \"Country Name\")\n",
    "data_edu.reset_index(inplace = True)\n",
    "data_edu.rename(columns = {\"Country Name\": \"Country\"}, inplace = True)\n",
    "data_edu.drop(columns = [\"index\"], inplace = True)\n",
    "columns_order = [\"PISA Performance\",\n",
    "                 \"Expenditure on education\",\n",
    "                 \"Expenditure in primary institutions\",\n",
    "                 \"Expenditure in secondary institutions\",\n",
    "                 \"Pupil-teacher ratio in primary education\",\n",
    "                 \"Pupil-teacher ratio in secondary education\",\n",
    "                ]\n",
    "data_edu.head()"
   ]
  },
  {
   "cell_type": "markdown",
   "metadata": {
    "hideCode": false,
    "hidePrompt": false
   },
   "source": [
    " ### 2.5 Handling missing data\n",
    "In this case, the analyses target just the countries which took the exam in 2015, so all others are out of the scope."
   ]
  },
  {
   "cell_type": "code",
   "execution_count": 35,
   "metadata": {
    "collapsed": true,
    "hideCode": false,
    "hidePrompt": false,
    "jupyter": {
     "outputs_hidden": true,
     "source_hidden": true
    }
   },
   "outputs": [],
   "source": [
    "# Dropping the null records.                                                               \n",
    "mapPISA = mapPISA.loc[mapPISA[\"PISA Performance\"].notnull(), :] # base to radar map\n",
    "data_edu = data_edu.loc[data_edu[\"PISA Performance\"].notnull(),:] # base to the correlations"
   ]
  },
  {
   "cell_type": "markdown",
   "metadata": {},
   "source": [
    "##  3. Exploratory Data Analysis (EDA)"
   ]
  },
  {
   "cell_type": "markdown",
   "metadata": {
    "hideCode": false,
    "hidePrompt": false
   },
   "source": [
    "This section provides insights into patterns and trends of Brazil performance in PISA and educational indicators.\n",
    "<br>\n",
    "<br>\n",
    "Before starting the data exploration, it is necessary to explain what is the PISA; this exam is the bases of all analysis. The Programme for International Student Assessment - PISA - was designed to evaluate scholastic performance on mathematics, science, and reading by age 15 in countries member and nonmember of the Organisation for Economic Co-operation and Development. The programme helps to provide comparative data among the nations and it enables countries to analyze education policies and outcomes.\n",
    "<br>\n",
    "<br>\n",
    "All following analysis use the PISA scores and its relationship to other educational indicators. \n",
    "<br>\n",
    "<br>\n",
    "The map depicts the general performance - the average of mathematics, science, and reading scores- from each country in 2015."
   ]
  },
  {
   "cell_type": "code",
   "execution_count": 36,
   "metadata": {
    "hideCode": false,
    "hidePrompt": false,
    "jupyter": {
     "source_hidden": true
    }
   },
   "outputs": [
    {
     "name": "stdout",
     "output_type": "stream",
     "text": [
      "High five! You successfully sent some data to your account on plotly. View your plot in your browser at https://plot.ly/~macortapasso/0 or inside your plot.ly account where it is named 'd3-world-map'\n"
     ]
    },
    {
     "data": {
      "text/html": [
       "<iframe id=\"igraph\" scrolling=\"no\" style=\"border:none;\" seamless=\"seamless\" src=\"https://plot.ly/~macortapasso/0.embed\" height=\"500px\" width=\"900px\"></iframe>"
      ],
      "text/plain": [
       "<plotly.tools.PlotlyDisplay object>"
      ]
     },
     "execution_count": 36,
     "metadata": {},
     "output_type": "execute_result"
    }
   ],
   "source": [
    "# Parameter to plot the graph\n",
    "graphPISA = [ dict(\n",
    "        type = 'choropleth',\n",
    "        locations = mapPISA['Country Code'],\n",
    "        z = mapPISA['PISA Performance'],\n",
    "        text = mapPISA['Country Name'],\n",
    "        colorscale = [[0.3,\"rgb(7, 106, 4)\"],[0.8,\"rgb(226, 0, 15)\"]],\n",
    "        autocolorscale = False,\n",
    "        reversescale = True,\n",
    "        marker = dict(\n",
    "            line = dict (\n",
    "                color = 'rgb(180,180,180)',\n",
    "                width = 0.5\n",
    "            ) ),\n",
    "        colorbar = dict(\n",
    "            autotick = False,\n",
    "            tickprefix = '',\n",
    "            title = 'PISA Performance'),\n",
    "      ) ]\n",
    "\n",
    "# Layout parameter\n",
    "layout = dict(\n",
    "    title = 'PISA Performance',\n",
    "    autosize = True,\n",
    "    hovermode='closest',\n",
    "    geo = dict(\n",
    "        showframe = False,\n",
    "        showcoastlines = True,\n",
    "        projection = dict(\n",
    "            type = 'Mercator'\n",
    "        ),\n",
    "        \n",
    "    ),\n",
    "    height = 500, \n",
    "    width = 900,\n",
    ")\n",
    "\n",
    "\n",
    "fig = dict( data = graphPISA, layout = layout)\n",
    "py.iplot( fig, validate = False, filename = 'd3-world-map')"
   ]
  },
  {
   "cell_type": "markdown",
   "metadata": {
    "hideCode": true,
    "hidePrompt": true
   },
   "source": [
    "The map identifies that most of the northern hemisphere countries reached results over 450, while all countries in Latin America did not score more than 450. Examining closely in South America, Brazil is still in disadvantage regarding performance. \n",
    "<br>\n",
    "<br>\n",
    "Overall, Brazil reached position 63 out of 71 countries that took the exam in 2015."
   ]
  },
  {
   "cell_type": "code",
   "execution_count": 48,
   "metadata": {
    "hideCode": false,
    "hidePrompt": false,
    "jupyter": {
     "source_hidden": true
    }
   },
   "outputs": [
    {
     "data": {
      "text/html": [
       "<iframe id=\"igraph\" scrolling=\"no\" style=\"border:none;\" seamless=\"seamless\" src=\"https://plot.ly/~macortapasso/13.embed\" height=\"500px\" width=\"900px\"></iframe>"
      ],
      "text/plain": [
       "<plotly.tools.PlotlyDisplay object>"
      ]
     },
     "execution_count": 48,
     "metadata": {},
     "output_type": "execute_result"
    }
   ],
   "source": [
    "# Brazil PISA results\n",
    "Brazil_PISA = mapPISA.loc[mapPISA[\"Country Name\"] == \"Brazil\", theta].values[0].tolist()\n",
    "\n",
    "# Object to portray Brazil radar chart\n",
    "brazil_Radar = go.Scatterpolar(\n",
    "      r = Brazil_PISA,\n",
    "      theta = theta,\n",
    "      fill = 'toself',\n",
    "      name = 'Brazil',\n",
    "    )\n",
    "\n",
    "# Store the other region chart objects\n",
    "radarData = []\n",
    "\n",
    "# By Region\n",
    "PISA_by_region = mapPISA.groupby([\"Region\"])[theta].mean().reset_index()\n",
    "region_list = mapPISA.Region.unique().tolist()\n",
    "\n",
    "for region in region_list:\n",
    "    radarData.append(\n",
    "        go.Scatterpolar(\n",
    "      r = PISA_by_region.loc[PISA_by_region[\"Region\"] == region, \n",
    "                                        theta].values[0].tolist(),\n",
    "      theta = theta,\n",
    "      name = region,\n",
    "      subplot = \"polar\",)\n",
    "    )\n",
    "\n",
    "# Brazilian radar chart\n",
    "brazilRadar = go.Scatterpolar(\n",
    "      r = Brazil_PISA,\n",
    "      theta = theta,\n",
    "      fill = 'toself',\n",
    "      name = 'Brazil',\n",
    "      subplot = 'polar',\n",
    "    )\n",
    "\n",
    "# Add Brazil radar chart to the other regions\n",
    "radarData.append(brazilRadar)\n",
    "\n",
    "\n",
    "# Layout\n",
    "layout = go.Layout(\n",
    "    title = 'Performance by Region',\n",
    "    height = 500, \n",
    "    width = 900,\n",
    "    polar = dict(\n",
    "      domain = dict(\n",
    "        x = [0, 1],\n",
    "        y = [0, 1]\n",
    "      ),\n",
    "        radialaxis = dict(\n",
    "            visible = True,\n",
    "            range = [320,550]\n",
    "        ), \n",
    "    ), \n",
    ")\n",
    "\n",
    "fig = go.Figure(data = radarData, layout = layout)\n",
    "py.iplot(fig, filename = \"Radar by Region\")"
   ]
  },
  {
   "cell_type": "markdown",
   "metadata": {
    "hideCode": false,
    "hidePrompt": false
   },
   "source": [
    "The performance per subject and region demonstrates that even comparing the performance among all other regions, Brazil is below the average.  "
   ]
  },
  {
   "cell_type": "code",
   "execution_count": 49,
   "metadata": {
    "hideCode": false,
    "hidePrompt": false,
    "jupyter": {
     "source_hidden": true
    }
   },
   "outputs": [
    {
     "data": {
      "text/html": [
       "<iframe id=\"igraph\" scrolling=\"no\" style=\"border:none;\" seamless=\"seamless\" src=\"https://plot.ly/~macortapasso/11.embed\" height=\"500px\" width=\"900px\"></iframe>"
      ],
      "text/plain": [
       "<plotly.tools.PlotlyDisplay object>"
      ]
     },
     "execution_count": 49,
     "metadata": {},
     "output_type": "execute_result"
    }
   ],
   "source": [
    "### By Income\n",
    "PISA_by_income = mapPISA.groupby([\"Income Group\"])[theta].mean().reset_index()\n",
    "income_list = mapPISA[\"Income Group\"].unique().tolist()\n",
    "\n",
    "radarData = []\n",
    "for income_group in income_list:\n",
    "    radarData.append(\n",
    "        go.Scatterpolar(\n",
    "      r = PISA_by_income.loc[PISA_by_income[\"Income Group\"] == income_group, \n",
    "                                        theta].values[0].tolist(),\n",
    "      theta = theta,\n",
    "      name = income_group,\n",
    "      )\n",
    "    )\n",
    "\n",
    "# Add Brazil radar chart to the other income groups\n",
    "radarData.append(brazilRadar)\n",
    "\n",
    "# Layout\n",
    "layout = go.Layout(\n",
    "    title = 'Performance by Income Group',\n",
    "    height = 500, \n",
    "    width = 900,\n",
    "    polar = dict(\n",
    "      domain = dict(\n",
    "        x = [0, 1],\n",
    "        y = [0, 1]\n",
    "      ),\n",
    "        radialaxis = dict(\n",
    "            visible = True,\n",
    "            range = [320,550]\n",
    "        ), \n",
    "    ), \n",
    ")\n",
    "\n",
    "fig = go.Figure(data = radarData, layout = layout)\n",
    "py.iplot(fig, filename = \"Radar by Income\")"
   ]
  },
  {
   "cell_type": "markdown",
   "metadata": {
    "hideCode": false,
    "hidePrompt": false
   },
   "source": [
    "According to OECD, Brazil belongs to the upper middle-income group. This chart also shows that Brazil is below the PISA performance average among all income groups.\n",
    "<br>\n",
    "<br>\n",
    "In order to analyze the factors that might affect the performance on PISA, it was selected five indicators of education, and it was crossed to the PISA performance to verify if there are statistical correlations. Follow below the five chosen indicators: \n",
    "<br>\n",
    "1. __Expenditure on education__: Government expenditure on education as % of GDP (%) mean from 2008 to 2012\n",
    "<br>\n",
    "2. __Expenditure in primary institutions__: Government expenditure in primary institutions as % of GDP (%) mean from 2008 to 2012.\n",
    "<br>\n",
    "3. __Expenditure in secondary institutions__: Government expenditure in secondary institutions education as % of GDP (%) mean from 2008 to 2012.\n",
    "<br>\n",
    "5. __Pupil-teacher ratio in primary education__: Pupil-teacher ratio in primary education (headcount basis) from 2012\n",
    "<br>\n",
    "6. __Pupil-teacher ratio in secondary education__: Pupil-teacher ratio in secondary education (headcount basis) from 2012\n",
    "<br>\n",
    "\n",
    "Although the PISA results are from 2015, the base data for most of the countries are not available from 2013. In 2012 was found more records from the countries that also participated in the PISA 2015, then this year was chosen to carry out the analysis. \n",
    "<br>\n",
    "<br>\n",
    "As the expenditure on education does not produce outcomes in short terms, it was used the indicators means from 2008 to 2012.\n",
    "<br>\n",
    "<br>\n",
    "The table below demostrates the descriptive statistics from the dependent variable- PISA Performance - and the independent ones."
   ]
  },
  {
   "cell_type": "code",
   "execution_count": 39,
   "metadata": {
    "hideCode": false,
    "hidePrompt": false,
    "jupyter": {
     "source_hidden": true
    },
    "scrolled": true
   },
   "outputs": [
    {
     "data": {
      "text/html": [
       "<div>\n",
       "<style scoped>\n",
       "    .dataframe tbody tr th:only-of-type {\n",
       "        vertical-align: middle;\n",
       "    }\n",
       "\n",
       "    .dataframe tbody tr th {\n",
       "        vertical-align: top;\n",
       "    }\n",
       "\n",
       "    .dataframe thead th {\n",
       "        text-align: right;\n",
       "    }\n",
       "</style>\n",
       "<table border=\"1\" class=\"dataframe\">\n",
       "  <thead>\n",
       "    <tr style=\"text-align: right;\">\n",
       "      <th>Indicator Name</th>\n",
       "      <th>PISA Performance</th>\n",
       "      <th>Expenditure on education</th>\n",
       "      <th>Expenditure in primary institutions</th>\n",
       "      <th>Expenditure in secondary institutions</th>\n",
       "      <th>Pupil-teacher ratio in primary education</th>\n",
       "      <th>Pupil-teacher ratio in secondary education</th>\n",
       "    </tr>\n",
       "  </thead>\n",
       "  <tbody>\n",
       "    <tr>\n",
       "      <th>count</th>\n",
       "      <td>71.000000</td>\n",
       "      <td>43.000000</td>\n",
       "      <td>36.000000</td>\n",
       "      <td>33.000000</td>\n",
       "      <td>56.000000</td>\n",
       "      <td>43.000000</td>\n",
       "    </tr>\n",
       "    <tr>\n",
       "      <th>mean</th>\n",
       "      <td>461.059427</td>\n",
       "      <td>5.107699</td>\n",
       "      <td>1.319591</td>\n",
       "      <td>1.778603</td>\n",
       "      <td>15.453741</td>\n",
       "      <td>12.766935</td>\n",
       "    </tr>\n",
       "    <tr>\n",
       "      <th>std</th>\n",
       "      <td>50.781211</td>\n",
       "      <td>1.390371</td>\n",
       "      <td>0.476773</td>\n",
       "      <td>0.579043</td>\n",
       "      <td>4.325250</td>\n",
       "      <td>4.593749</td>\n",
       "    </tr>\n",
       "    <tr>\n",
       "      <th>min</th>\n",
       "      <td>339.026167</td>\n",
       "      <td>1.856002</td>\n",
       "      <td>0.596452</td>\n",
       "      <td>0.628248</td>\n",
       "      <td>8.372040</td>\n",
       "      <td>7.806150</td>\n",
       "    </tr>\n",
       "    <tr>\n",
       "      <th>25%</th>\n",
       "      <td>420.003800</td>\n",
       "      <td>4.140779</td>\n",
       "      <td>0.958840</td>\n",
       "      <td>1.461286</td>\n",
       "      <td>11.671885</td>\n",
       "      <td>9.426490</td>\n",
       "    </tr>\n",
       "    <tr>\n",
       "      <th>50%</th>\n",
       "      <td>475.399633</td>\n",
       "      <td>5.152044</td>\n",
       "      <td>1.351570</td>\n",
       "      <td>1.831222</td>\n",
       "      <td>15.045085</td>\n",
       "      <td>11.676160</td>\n",
       "    </tr>\n",
       "    <tr>\n",
       "      <th>75%</th>\n",
       "      <td>503.185000</td>\n",
       "      <td>5.582716</td>\n",
       "      <td>1.601966</td>\n",
       "      <td>2.024286</td>\n",
       "      <td>18.214748</td>\n",
       "      <td>14.778325</td>\n",
       "    </tr>\n",
       "    <tr>\n",
       "      <th>max</th>\n",
       "      <td>551.621533</td>\n",
       "      <td>8.753572</td>\n",
       "      <td>2.545750</td>\n",
       "      <td>3.149420</td>\n",
       "      <td>28.016359</td>\n",
       "      <td>29.175770</td>\n",
       "    </tr>\n",
       "  </tbody>\n",
       "</table>\n",
       "</div>"
      ],
      "text/plain": [
       "Indicator Name  PISA Performance  Expenditure on education  \\\n",
       "count                  71.000000                 43.000000   \n",
       "mean                  461.059427                  5.107699   \n",
       "std                    50.781211                  1.390371   \n",
       "min                   339.026167                  1.856002   \n",
       "25%                   420.003800                  4.140779   \n",
       "50%                   475.399633                  5.152044   \n",
       "75%                   503.185000                  5.582716   \n",
       "max                   551.621533                  8.753572   \n",
       "\n",
       "Indicator Name  Expenditure in primary institutions  \\\n",
       "count                                     36.000000   \n",
       "mean                                       1.319591   \n",
       "std                                        0.476773   \n",
       "min                                        0.596452   \n",
       "25%                                        0.958840   \n",
       "50%                                        1.351570   \n",
       "75%                                        1.601966   \n",
       "max                                        2.545750   \n",
       "\n",
       "Indicator Name  Expenditure in secondary institutions  \\\n",
       "count                                       33.000000   \n",
       "mean                                         1.778603   \n",
       "std                                          0.579043   \n",
       "min                                          0.628248   \n",
       "25%                                          1.461286   \n",
       "50%                                          1.831222   \n",
       "75%                                          2.024286   \n",
       "max                                          3.149420   \n",
       "\n",
       "Indicator Name  Pupil-teacher ratio in primary education  \\\n",
       "count                                          56.000000   \n",
       "mean                                           15.453741   \n",
       "std                                             4.325250   \n",
       "min                                             8.372040   \n",
       "25%                                            11.671885   \n",
       "50%                                            15.045085   \n",
       "75%                                            18.214748   \n",
       "max                                            28.016359   \n",
       "\n",
       "Indicator Name  Pupil-teacher ratio in secondary education  \n",
       "count                                            43.000000  \n",
       "mean                                             12.766935  \n",
       "std                                               4.593749  \n",
       "min                                               7.806150  \n",
       "25%                                               9.426490  \n",
       "50%                                              11.676160  \n",
       "75%                                              14.778325  \n",
       "max                                              29.175770  "
      ]
     },
     "execution_count": 39,
     "metadata": {},
     "output_type": "execute_result"
    }
   ],
   "source": [
    "data_edu[columns_order].describe()"
   ]
  },
  {
   "cell_type": "markdown",
   "metadata": {
    "hideCode": true,
    "hidePrompt": true
   },
   "source": [
    "The sample is composed by 71 countries. The descriptive analysis demonstrates the dispersion of each variable and put in the picture of the Brazil position in each quartile. This country is in the first quartile in PISA Performance and fourth quartile in all others. Importantly, the pupil-teacher ratio refers to teacher per student; so low ratio is more desirable. In other words, Brazil is among the 25% countries that spent more on education proportionally with the GDP, however, it has fewer teachers per students than 75% of the countries in the analysis.\n",
    "<br>\n",
    "<br>\n",
    "There is a misconception in Brazil that is not invested enough monetary resources in education, the descriptive statistics demonstrated that is not the full truth, and the following chart shows that Brazil spent the same amount - proportional to the GDP - as most of the other countries. Indeed, Brazil spent more than Germany, Netherland, and Australia, nations that achieved high scores in the PISA 2015. \n",
    "<br>\n",
    "<br>\n",
    "Another fact is that even spending less; Colombia, Chile, and Thailand attained slight better scores than Brazil."
   ]
  },
  {
   "cell_type": "code",
   "execution_count": 40,
   "metadata": {
    "hideCode": false,
    "hidePrompt": false,
    "jupyter": {
     "source_hidden": true
    }
   },
   "outputs": [
    {
     "data": {
      "text/html": [
       "<iframe id=\"igraph\" scrolling=\"no\" style=\"border:none;\" seamless=\"seamless\" src=\"https://plot.ly/~macortapasso/23.embed\" height=\"500px\" width=\"900px\"></iframe>"
      ],
      "text/plain": [
       "<plotly.tools.PlotlyDisplay object>"
      ]
     },
     "execution_count": 40,
     "metadata": {},
     "output_type": "execute_result"
    }
   ],
   "source": [
    "x_name = \"Expenditure on education\"\n",
    "y_name = \"PISA Performance\"\n",
    "\n",
    "general_exp = go.Scatter(\n",
    "    x = data_edu[x_name],\n",
    "    y = data_edu[y_name],\n",
    "    mode='markers+text',\n",
    "    text = data_edu[\"Country\"],\n",
    "    marker= dict(size= 14,\n",
    "                    line= dict(width=1),\n",
    "                    color= np.random.randn(500),\n",
    "                    opacity= 0.9\n",
    "                   ),\n",
    "    textfont = dict( size = 9),\n",
    "    textposition = 'bottom center'\n",
    ")\n",
    "\n",
    "layout = go.Layout(showlegend = False,\n",
    "                   title = 'Expenditure on Education - 2008 - 2012',\n",
    "                   xaxis= dict(\n",
    "                                title = \"Expenditure on education %GDP\"\n",
    "                               ),\n",
    "                    yaxis=dict(\n",
    "                                title = 'PISA Performance - 2015',\n",
    "                               ),\n",
    "                   height = 500, \n",
    "                   width = 900,\n",
    "                  )\n",
    "\n",
    "fig = go.Figure(data = [general_exp], layout = layout)\n",
    "\n",
    "py.iplot(fig, filename = \"Expenditure on Education\")"
   ]
  },
  {
   "cell_type": "markdown",
   "metadata": {
    "hideCode": false,
    "hidePrompt": false
   },
   "source": [
    "In general, it is not possible to identify a clear relationship between expenditure on education and PISA scores. There is a concentration around 4% and 6% expenditure of the GDP; however, the PISA scores in this range also vary significantly. "
   ]
  },
  {
   "cell_type": "code",
   "execution_count": 51,
   "metadata": {
    "hideCode": false,
    "hidePrompt": false,
    "jupyter": {
     "source_hidden": true
    }
   },
   "outputs": [
    {
     "name": "stdout",
     "output_type": "stream",
     "text": [
      "This is the format of your plot grid:\n",
      "[ (1,1) x1,y1 ]  [ (1,2) x2,y2 ]\n",
      "\n"
     ]
    },
    {
     "data": {
      "text/html": [
       "<iframe id=\"igraph\" scrolling=\"no\" style=\"border:none;\" seamless=\"seamless\" src=\"https://plot.ly/~macortapasso/17.embed\" height=\"500px\" width=\"900px\"></iframe>"
      ],
      "text/plain": [
       "<plotly.tools.PlotlyDisplay object>"
      ]
     },
     "execution_count": 51,
     "metadata": {},
     "output_type": "execute_result"
    }
   ],
   "source": [
    "x1_name = \"Expenditure in primary institutions\"\n",
    "x2_name = \"Expenditure in secondary institutions\"\n",
    "\n",
    "pri_exp = go.Scatter(\n",
    "    x = data_edu[x1_name],\n",
    "    y = data_edu[y_name],\n",
    "    mode='markers+text',\n",
    "    text = data_edu[\"Country\"],\n",
    "    marker= dict(size= 8,\n",
    "                    line= dict(width=1),\n",
    "                    color= np.random.randn(500),\n",
    "                    opacity= 0.9\n",
    "                   ),\n",
    "    textfont = dict( size = 6),\n",
    "    textposition = 'bottom center'\n",
    ")\n",
    "sec_exp = go.Scatter(\n",
    "    x = data_edu[x2_name],\n",
    "    y = data_edu[y_name],\n",
    "    mode='markers+text',\n",
    "    text = data_edu[\"Country\"],\n",
    "     marker= dict(size= 8,\n",
    "                    line= dict(width=1),\n",
    "                    color= np.random.randn(500),\n",
    "                    opacity= 0.9\n",
    "                   ),\n",
    "    textfont = dict( size = 6),\n",
    "    textposition='bottom center'\n",
    ")\n",
    "\n",
    "fig = tools.make_subplots(rows = 1, \n",
    "                          cols = 2,\n",
    "                         subplot_titles = ('Primary Education', 'Secondary Education'))\n",
    "\n",
    "fig.append_trace(pri_exp, 1, 1)\n",
    "fig.append_trace(sec_exp, 1, 2)\n",
    "\n",
    "fig['layout']['xaxis1'].update(title = \"Expenditure in primary education %GDP\")\n",
    "fig['layout']['xaxis2'].update(title = 'Expenditure in secondary education %GDP')\n",
    "\n",
    "fig['layout']['yaxis1'].update(title = 'PISA Performance - 2015')\n",
    "fig['layout']['yaxis2'].update(title = 'PISA Performance - 2015')\n",
    "\n",
    "fig['layout'].update(height = 500, \n",
    "                     width = 900, \n",
    "                     title='Expenditure in Primary & Secondary 2008-2012',\n",
    "                     showlegend = False)\n",
    "\n",
    "py.iplot(fig, filename='Pupils Teacher Ratio')"
   ]
  },
  {
   "cell_type": "markdown",
   "metadata": {
    "hideCode": false,
    "hidePrompt": false
   },
   "source": [
    "As presented in the previous chart, there is no clear correlation between expenditure in primary and secondary education and the scores in the PISA. \n",
    "<br>\n",
    "<br>\n",
    "Notably, Brazil spent more than the median; it was 1.71% and 2.45% of the GDP in primary and secondary education respectively."
   ]
  },
  {
   "cell_type": "code",
   "execution_count": 42,
   "metadata": {
    "collapsed": true,
    "hideCode": false,
    "hidePrompt": false,
    "jupyter": {
     "outputs_hidden": true,
     "source_hidden": true
    }
   },
   "outputs": [],
   "source": [
    "def exclude_null(x_name, y_name, df):\n",
    "    ''' Exclude nulls that exist in 2 column at the same time.\n",
    "    Parameters\n",
    "    ----------\n",
    "    x_name, y_name : strig with column name\n",
    "    df: DataFrame in pandas\n",
    "    Returns\n",
    "    -------\n",
    "    outcome: new DataFrame with the 2 columns and no null values.\n",
    "\n",
    "    '''\n",
    "    outcome = df.loc[(df[x_name].notnull() & df[y_name].notnull()), [x_name, y_name]]\n",
    "    return outcome"
   ]
  },
  {
   "cell_type": "code",
   "execution_count": 52,
   "metadata": {
    "hideCode": false,
    "hidePrompt": false,
    "jupyter": {
     "source_hidden": true
    }
   },
   "outputs": [
    {
     "data": {
      "text/html": [
       "<iframe id=\"igraph\" scrolling=\"no\" style=\"border:none;\" seamless=\"seamless\" src=\"https://plot.ly/~macortapasso/21.embed\" height=\"500px\" width=\"900px\"></iframe>"
      ],
      "text/plain": [
       "<plotly.tools.PlotlyDisplay object>"
      ]
     },
     "execution_count": 52,
     "metadata": {},
     "output_type": "execute_result"
    }
   ],
   "source": [
    "x_name = \"Pupil-teacher ratio in primary education\"\n",
    "y_name = \"PISA Performance\"\n",
    "\n",
    "\n",
    "primary = go.Scatter(\n",
    "    x = data_edu[x_name],\n",
    "    y = data_edu[y_name],\n",
    "    mode='markers+text',\n",
    "    text = data_edu[\"Country\"],\n",
    "    marker= dict(size= 14,\n",
    "                    line= dict(width=1),\n",
    "                    color= np.random.randn(500),\n",
    "                    opacity= 0.9\n",
    "                   ),\n",
    "    textfont = dict( size = 9),\n",
    "    textposition = 'bottom center'\n",
    ")\n",
    "\n",
    "\n",
    "regr_dbase = exclude_null(x_name, y_name, data_edu)\n",
    "\n",
    "#   Creating linear regression object\n",
    "regr = linear_model.LinearRegression()\n",
    "regr.fit(regr_dbase[x_name].values.reshape(-1, 1), regr_dbase[y_name].values.reshape(-1, 1))\n",
    "\n",
    "\n",
    "regr_chart = go.Scatter(x = regr_dbase[x_name].values.reshape(-1, 1), \n",
    "                        y = regr.predict(regr_dbase[x_name].values.reshape(-1, 1)), \n",
    "                        mode = 'lines', \n",
    "                        line = dict(color = 'grey', \n",
    "                                    width = 2\n",
    "                                   )\n",
    "                       )\n",
    "\n",
    "\n",
    "layout = go.Layout(showlegend = False,\n",
    "                   title = 'Primary Education - Pupil-teacher Ratio',\n",
    "                   xaxis= dict(\n",
    "                                title= \"Pupil-teacher ratio in primary education\"\n",
    "                               ),\n",
    "                    yaxis=dict(\n",
    "                                title= 'PISA Performance - 2015',\n",
    "                               ),\n",
    "                   height = 500, \n",
    "                   width = 900,\n",
    "                  )\n",
    "\n",
    "fig = go.Figure(data = [primary, regr_chart], layout = layout)\n",
    "\n",
    "py.iplot(fig, filename = \"Pupil-teacher ratio in primary education\")"
   ]
  },
  {
   "cell_type": "markdown",
   "metadata": {
    "hideCode": false,
    "hidePrompt": false
   },
   "source": [
    "Though Brazil spent a reasonable amount on education, the ratio pupil-teacher keeps high; it was 20.51 pupil per teacher in 2015. It suggests that Brazil has more students per teacher in primary school than most of the other nations. \n",
    "<br>\n",
    "<br>\n",
    "This chart also shows a negative relationship between pupil-teacher ratio and PISA performance, since the countries which have lower ratio achieved higher scores."
   ]
  },
  {
   "cell_type": "code",
   "execution_count": 53,
   "metadata": {
    "hideCode": false,
    "hidePrompt": false,
    "jupyter": {
     "source_hidden": true
    }
   },
   "outputs": [
    {
     "data": {
      "text/html": [
       "<iframe id=\"igraph\" scrolling=\"no\" style=\"border:none;\" seamless=\"seamless\" src=\"https://plot.ly/~macortapasso/25.embed\" height=\"500px\" width=\"900px\"></iframe>"
      ],
      "text/plain": [
       "<plotly.tools.PlotlyDisplay object>"
      ]
     },
     "execution_count": 53,
     "metadata": {},
     "output_type": "execute_result"
    }
   ],
   "source": [
    "y_name = \"PISA Performance\"\n",
    "x_name = \"Pupil-teacher ratio in secondary education\"\n",
    "\n",
    "secundary = go.Scatter(\n",
    "    x = data_edu[x_name],\n",
    "    y = data_edu[y_name],\n",
    "    mode='markers+text',\n",
    "    text = data_edu[\"Country\"],\n",
    "    marker= dict(size= 14,\n",
    "                    line= dict(width=1),\n",
    "                    color= np.random.randn(500),\n",
    "                    opacity= 0.9\n",
    "                   ),\n",
    "    textfont = dict( size = 9),\n",
    "    textposition = 'bottom center'\n",
    ")\n",
    "\n",
    "\n",
    "regr_dbase = exclude_null(x_name, y_name, data_edu)\n",
    "\n",
    "#   Create linear regression object\n",
    "regr = linear_model.LinearRegression()\n",
    "regr.fit(regr_dbase[x_name].values.reshape(-1, 1), regr_dbase[y_name].values.reshape(-1, 1))\n",
    "\n",
    "\n",
    "regr_chart = go.Scatter(x = regr_dbase[x_name].values.reshape(-1, 1), \n",
    "                        y = regr.predict(regr_dbase[x_name].values.reshape(-1, 1)), \n",
    "                        mode = 'lines', \n",
    "                        line = dict(color = 'grey', \n",
    "                                    width = 2\n",
    "                                   )\n",
    "                       )\n",
    "\n",
    "layout = go.Layout(showlegend = False,\n",
    "                   title = 'Secondary Education - Pupil-teacher Ratio',\n",
    "                   xaxis= dict(\n",
    "                                title = \"Pupil-teacher ratio in secondary education\"\n",
    "                               ),\n",
    "                    yaxis=dict(\n",
    "                                title = 'PISA Performance - 2015' ,\n",
    "                               ),\n",
    "                   height = 500, \n",
    "                   width = 900,\n",
    "                  )\n",
    "\n",
    "fig = go.Figure(data = [secundary, regr_chart], layout = layout)\n",
    "\n",
    "py.iplot(fig, filename = \"Pupil-teacher ratio in secondary education\")"
   ]
  },
  {
   "cell_type": "markdown",
   "metadata": {
    "hideCode": false,
    "hidePrompt": false
   },
   "source": [
    "The same tendency is also identified on secondary education. As lower is the pupil-teacher ratio, higher are the performance in the PISA. \n",
    "<br>\n",
    "<br>\n",
    "Brazil has one of the highest pupil-teacher ratios in both indicators; so it might contribute to jeopardizing the scores in the test."
   ]
  },
  {
   "cell_type": "markdown",
   "metadata": {
    "hideCode": false,
    "hidePrompt": false
   },
   "source": [
    "##  4. Inferential Statistics\n",
    "<br>\n",
    "In this section, it is developed a hypothesis test to verify whether the correlation portrayed previously have statistical significance. Following the 5 hypothesis:\n",
    "<br>\n",
    "<br>\n",
    "Hypothesis Testing 1: Expenditure on education\n",
    "<br>\n",
    "$H_0$: Expenditure on education does not increase PISA performance\n",
    "<br>\n",
    "$H_1$: Expenditure on education does increase PISA performance\n",
    "<br>\n",
    "<br>\n",
    "Hypothesis Testing 2: Expenditure in primary institutions\t\n",
    "<br>\n",
    "$H_0$: Expenditure in primary institutions does not increase PISA performance\n",
    "<br>\n",
    "$H_1$: Expenditure in primary institutions\tdoes increase PISA performance\n",
    "<br>\n",
    "<br>\n",
    "Hypothesis Testing 3: Expenditure in secondary institutions\t\n",
    "<br>\n",
    "$H_0$: Expenditure in secondary institutions does not increase PISA performance\n",
    "<br>\n",
    "$H_1$: Expenditure in secondary institutions does increase PISA performance\n",
    "<br>\n",
    "<br>\n",
    "Hypothesis Testing 4: Pupil-teacher ratio in primary education\n",
    "<br>\n",
    "$H_0$: Low pupil-teacher ratio in primary education does not increase PISA performance\n",
    "<br>\n",
    "$H_1$: Low pupil-teacher ratio in primary education does increase PISA performance\n",
    "<br>\n",
    "<br>\n",
    "Hypothesis Testing 5: Pupil-teacher ratio in secondary education\n",
    "<br>\n",
    "$H_0$: Low pupil-teacher ratio in secondary education does not increase PISA performance\n",
    "<br>\n",
    "$H_1$: Low pupil-teacher ratio in secondary education does increase PISA performance\n",
    "<br>\n",
    "<br>\n",
    "It is used the Pearson's R method to calculate the correlation and the confidence interval is 95%, $\\alpha$ = 5%."
   ]
  },
  {
   "cell_type": "markdown",
   "metadata": {},
   "source": [
    "$$r = \\frac{{}\\sum_{i=1}^{n} (x_i - \\overline{x})(y_i - \\overline{y})}\n",
    "{\\sqrt{\\sum_{i=1}^{n} (x_i - \\overline{x})^2(y_i - \\overline{y})^2}}$$"
   ]
  },
  {
   "cell_type": "code",
   "execution_count": 45,
   "metadata": {
    "collapsed": true,
    "hideCode": false,
    "hidePrompt": false,
    "jupyter": {
     "outputs_hidden": true,
     "source_hidden": true
    }
   },
   "outputs": [],
   "source": [
    "def pearsonr_ci(x, y, alpha=0.05):\n",
    "    # Collected from GitHubGist //gist.github.com/zhiyzuo/d38159a7c48b575af3e3de7501462e04\n",
    "    # Explanation CI for Pearson's R: \n",
    "    # http://faculty.washington.edu/gloftus/P317-318/Useful_Information/r_to_z/PearsonrCIs.pdf\n",
    "    ''' calculate Pearson correlation along with the confidence interval using scipy and numpy\n",
    "    Parameters\n",
    "    ----------\n",
    "    x, y : iterable object such as a list or np.array\n",
    "      Input for correlation calculation\n",
    "    alpha : float\n",
    "      Significance level. 0.05 by default\n",
    "    Returns\n",
    "    -------\n",
    "    r : float\n",
    "      Pearson's correlation coefficient\n",
    "    pval : float\n",
    "      The corresponding p value\n",
    "    lo, hi : float\n",
    "      The lower and upper bound of confidence intervals\n",
    "\n",
    "    '''\n",
    "\n",
    "    r, p = stats.pearsonr(x,y)\n",
    "    r_z = np.arctanh(r)\n",
    "    se = 1 / np.sqrt(x.size-3)\n",
    "    z = stats.norm.ppf(1-alpha/2)\n",
    "    lo_z, hi_z = r_z - z * se, r_z + z * se\n",
    "    lo, hi = np.tanh((lo_z, hi_z))\n",
    "    \n",
    "    return r, p, lo, hi"
   ]
  },
  {
   "cell_type": "code",
   "execution_count": 46,
   "metadata": {
    "hideCode": false,
    "hidePrompt": false,
    "jupyter": {
     "source_hidden": true
    }
   },
   "outputs": [
    {
     "data": {
      "text/html": [
       "<div>\n",
       "<style scoped>\n",
       "    .dataframe tbody tr th:only-of-type {\n",
       "        vertical-align: middle;\n",
       "    }\n",
       "\n",
       "    .dataframe tbody tr th {\n",
       "        vertical-align: top;\n",
       "    }\n",
       "\n",
       "    .dataframe thead th {\n",
       "        text-align: right;\n",
       "    }\n",
       "</style>\n",
       "<table border=\"1\" class=\"dataframe\">\n",
       "  <thead>\n",
       "    <tr style=\"text-align: right;\">\n",
       "      <th></th>\n",
       "      <th>Pearson's R</th>\n",
       "      <th>P-value</th>\n",
       "      <th>95% CI Lower</th>\n",
       "      <th>95% CI Upper</th>\n",
       "      <th>N</th>\n",
       "    </tr>\n",
       "    <tr>\n",
       "      <th>Indicator Name</th>\n",
       "      <th></th>\n",
       "      <th></th>\n",
       "      <th></th>\n",
       "      <th></th>\n",
       "      <th></th>\n",
       "    </tr>\n",
       "  </thead>\n",
       "  <tbody>\n",
       "    <tr>\n",
       "      <th>Expenditure on education</th>\n",
       "      <td>0.215368</td>\n",
       "      <td>0.165446</td>\n",
       "      <td>-0.090853</td>\n",
       "      <td>0.484380</td>\n",
       "      <td>43.0</td>\n",
       "    </tr>\n",
       "    <tr>\n",
       "      <th>Expenditure in primary institutions</th>\n",
       "      <td>-0.179350</td>\n",
       "      <td>0.295266</td>\n",
       "      <td>-0.479625</td>\n",
       "      <td>0.158527</td>\n",
       "      <td>36.0</td>\n",
       "    </tr>\n",
       "    <tr>\n",
       "      <th>Expenditure in secondary institutions</th>\n",
       "      <td>0.331176</td>\n",
       "      <td>0.059751</td>\n",
       "      <td>-0.013689</td>\n",
       "      <td>0.605628</td>\n",
       "      <td>33.0</td>\n",
       "    </tr>\n",
       "    <tr>\n",
       "      <th>Pupil-teacher ratio in primary education</th>\n",
       "      <td>-0.465964</td>\n",
       "      <td>0.000295</td>\n",
       "      <td>-0.649322</td>\n",
       "      <td>-0.231412</td>\n",
       "      <td>56.0</td>\n",
       "    </tr>\n",
       "    <tr>\n",
       "      <th>Pupil-teacher ratio in secondary education</th>\n",
       "      <td>-0.497722</td>\n",
       "      <td>0.000684</td>\n",
       "      <td>-0.694280</td>\n",
       "      <td>-0.232070</td>\n",
       "      <td>43.0</td>\n",
       "    </tr>\n",
       "  </tbody>\n",
       "</table>\n",
       "</div>"
      ],
      "text/plain": [
       "                                            Pearson's R   P-value  \\\n",
       "Indicator Name                                                      \n",
       "Expenditure on education                       0.215368  0.165446   \n",
       "Expenditure in primary institutions           -0.179350  0.295266   \n",
       "Expenditure in secondary institutions          0.331176  0.059751   \n",
       "Pupil-teacher ratio in primary education      -0.465964  0.000295   \n",
       "Pupil-teacher ratio in secondary education    -0.497722  0.000684   \n",
       "\n",
       "                                            95% CI Lower  95% CI Upper     N  \n",
       "Indicator Name                                                                \n",
       "Expenditure on education                       -0.090853      0.484380  43.0  \n",
       "Expenditure in primary institutions            -0.479625      0.158527  36.0  \n",
       "Expenditure in secondary institutions          -0.013689      0.605628  33.0  \n",
       "Pupil-teacher ratio in primary education       -0.649322     -0.231412  56.0  \n",
       "Pupil-teacher ratio in secondary education     -0.694280     -0.232070  43.0  "
      ]
     },
     "execution_count": 46,
     "metadata": {},
     "output_type": "execute_result"
    }
   ],
   "source": [
    "y_var = \"PISA Performance\"\n",
    "x_var = data_edu.loc[:, columns_order]\n",
    "x_var = x_var.loc[:, x_var.columns != \"PISA Performance\"]\n",
    "\n",
    "outcome = pd.DataFrame(index = x_var.columns)\n",
    "for x in x_var:\n",
    "    db_statis = exclude_null(x, y_var, data_edu)\n",
    "    records, _ = db_statis.shape\n",
    "    r, p, lo, hi = pearsonr_ci(db_statis[x], db_statis[y_var])\n",
    "    outcome.loc[x, \"Pearson's R\"] = r\n",
    "    outcome.loc[x, \"P-value\"] = p\n",
    "    outcome.loc[x, \"95% CI Lower\"] = lo\n",
    "    outcome.loc[x, \"95% CI Upper\"] = hi\n",
    "    outcome.loc[x, \"N\"] = records\n",
    "outcome"
   ]
  },
  {
   "cell_type": "markdown",
   "metadata": {
    "hideCode": false,
    "hidePrompt": false
   },
   "source": [
    "The expenditure on education, in the primary institution and secondary institutions, does not present P-value to reject the null hypothesis; therefore, there is no evidence that the increase in expenditure is correlated to the performance in the PISA. \n",
    "<br>\n",
    "<br>\n",
    "On the other hand, the pupil-teacher ratio in primary and secondary education demonstrated to have a significant correlation in the PISA scores. The hypothesis test for both indicators are rejected, so there is evidence that these indicators have effects on the performance."
   ]
  },
  {
   "cell_type": "markdown",
   "metadata": {},
   "source": [
    "## 5. Conclusion"
   ]
  },
  {
   "cell_type": "markdown",
   "metadata": {
    "hideCode": false,
    "hidePrompt": false
   },
   "source": [
    "The exploratory data analysis contrasts the Brazil PISA results with other regions and country income groups. For both angles, Brazil is behind among its similar. Afterward, it was analyzed how expenditure on education, expenditure in primary institutions, expenditure in secondary institutions, pupil-teacher ratio in primary school, and secondary education affect the PISA performance. The scatter charts provided insights to identify patterns and to define the hypothesis. The null hypothesis for the pupil-teacher ratio in primary and secondary education were rejected; therefore it indicates these two independent variables correlate with PISA scores. Regarding the expenditure variables, it was not found any significant relationship to the PISA performance, so there is no evidence the increase in expenditure advance the outcomes in PISA.\n",
    "<br>\n",
    "<br>\n",
    "Overall, although Brazil spent a reasonable proportion of GDP in education between 2008 and 2012, the school did not seem to improve even when compared to other countries that spent similar amounts or lower. Besides that, the nation is still placed among the last positions in PISA performance. The hypothesis testing indicates that further investigation could be carried out to identify how the reduction of the pupil-teacher ratio would boost the education in Brazil, once these indicators demonstrated to be critical to attaining higher scores in PISA.  "
   ]
  }
 ],
 "metadata": {
  "celltoolbar": "Hide code",
  "hide_code_all_hidden": true,
  "kernelspec": {
   "display_name": "Python 3",
   "language": "python",
   "name": "python3"
  },
  "language_info": {
   "codemirror_mode": {
    "name": "ipython",
    "version": 3
   },
   "file_extension": ".py",
   "mimetype": "text/x-python",
   "name": "python",
   "nbconvert_exporter": "python",
   "pygments_lexer": "ipython3",
   "version": "3.7.0"
  }
 },
 "nbformat": 4,
 "nbformat_minor": 2
}
